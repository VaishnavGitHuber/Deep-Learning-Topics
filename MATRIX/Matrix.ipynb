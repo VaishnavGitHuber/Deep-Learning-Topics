{
  "nbformat": 4,
  "nbformat_minor": 0,
  "metadata": {
    "colab": {
      "provenance": []
    },
    "kernelspec": {
      "name": "python3",
      "display_name": "Python 3"
    },
    "language_info": {
      "name": "python"
    }
  },
  "cells": [
    {
      "cell_type": "code",
      "execution_count": 1,
      "metadata": {
        "id": "1Q5nzsAREFlw"
      },
      "outputs": [],
      "source": [
        "# importing the numpy modules\n",
        "import numpy as np"
      ]
    },
    {
      "cell_type": "code",
      "source": [
        "# Matrix Addition :  add the numbers in the matching positions:\n",
        "A = np.array([[3,8],[4,6]])\n",
        "B = np.array([[4,0],[1,-9]])\n",
        "\n",
        "A + B"
      ],
      "metadata": {
        "colab": {
          "base_uri": "https://localhost:8080/"
        },
        "id": "ZeRM1moAEiUW",
        "outputId": "1f10bfac-8961-47aa-96ae-c53d1213da37"
      },
      "execution_count": 3,
      "outputs": [
        {
          "output_type": "execute_result",
          "data": {
            "text/plain": [
              "array([[ 7,  8],\n",
              "       [ 5, -3]])"
            ]
          },
          "metadata": {},
          "execution_count": 3
        }
      ]
    },
    {
      "cell_type": "code",
      "source": [
        "# MAtrix Subtarction: subtract the numbers in the matching positions:\n",
        "A = np.array([[3,8],[4,6]])\n",
        "B = np.array([[4,0],[1,-9]])\n",
        "\n",
        "A - B"
      ],
      "metadata": {
        "colab": {
          "base_uri": "https://localhost:8080/"
        },
        "id": "hUIdKSnuE1FO",
        "outputId": "60a8f233-a646-43b5-99d1-641063f5980d"
      },
      "execution_count": 4,
      "outputs": [
        {
          "output_type": "execute_result",
          "data": {
            "text/plain": [
              "array([[-1,  8],\n",
              "       [ 3, 15]])"
            ]
          },
          "metadata": {},
          "execution_count": 4
        }
      ]
    },
    {
      "cell_type": "code",
      "source": [
        "# Multiplying by a constant (Scalar Multiplication)\n",
        "2 * B"
      ],
      "metadata": {
        "colab": {
          "base_uri": "https://localhost:8080/"
        },
        "id": "lqQMNJjoE7nW",
        "outputId": "738e4bdf-f354-44ed-c956-db065ea4c65c"
      },
      "execution_count": 6,
      "outputs": [
        {
          "output_type": "execute_result",
          "data": {
            "text/plain": [
              "array([[  8,   0],\n",
              "       [  2, -18]])"
            ]
          },
          "metadata": {},
          "execution_count": 6
        }
      ]
    },
    {
      "cell_type": "code",
      "source": [
        "# Multiplication of Matrix with another Matrix : But to multiply a matrix by another matrix we need to do the \"dot product\" of rows and columns\n",
        "A = np.array([[1,2,3],[4,5,6]])\n",
        "B = np.array([[7,8],[9,10],[11,12]])\n",
        "np.dot(A,B)"
      ],
      "metadata": {
        "colab": {
          "base_uri": "https://localhost:8080/"
        },
        "id": "Pq63H1sZFP3B",
        "outputId": "37745daa-b07b-4f02-f3c1-5c5eeada0b47"
      },
      "execution_count": 9,
      "outputs": [
        {
          "output_type": "execute_result",
          "data": {
            "text/plain": [
              "array([[ 58,  64],\n",
              "       [139, 154]])"
            ]
          },
          "metadata": {},
          "execution_count": 9
        }
      ]
    }
  ]
}